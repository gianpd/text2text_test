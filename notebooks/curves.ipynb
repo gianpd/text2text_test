{
 "cells": [
  {
   "cell_type": "code",
   "execution_count": null,
   "metadata": {},
   "outputs": [],
   "source": [
    "import numpy as np\n",
    "import matplotlib.pylab as plt"
   ]
  },
  {
   "cell_type": "code",
   "execution_count": null,
   "metadata": {},
   "outputs": [],
   "source": [
    "x = np.linspace(0, 0.5, 100)\n",
    "e = np.exp(x)\n",
    "ea = 1 + x + x**2/2 #+ x**3/3*2 + x**4/(4*3*2) + x**5/(5*4*3*2) + x**6/(6*5*4*3*2)\n",
    "y = 1 / x**2\n",
    "ys = y**2\n",
    "d = 1 / x**4\n",
    "y1 = -1 / (x**2)"
   ]
  },
  {
   "cell_type": "code",
   "execution_count": null,
   "metadata": {},
   "outputs": [],
   "source": [
    "# plt.title('y = 1/x')\n",
    "# plt.plot(x, y, label='1/x')\n",
    "plt.plot(x, ys, label='exp(x)')\n",
    "plt.plot(x, d, label='approx exp(x)')\n",
    "plt.legend()"
   ]
  },
  {
   "cell_type": "code",
   "execution_count": null,
   "metadata": {},
   "outputs": [],
   "source": [
    "plt.title('y = -1/x^2')\n",
    "plt.plot(x, y1)"
   ]
  },
  {
   "cell_type": "code",
   "execution_count": null,
   "metadata": {},
   "outputs": [],
   "source": [
    "fact = np.math.factorial"
   ]
  },
  {
   "cell_type": "code",
   "execution_count": null,
   "metadata": {},
   "outputs": [],
   "source": [
    "%matplotlib inline\n",
    "plt.rcParams['figure.figsize'] = [15, 8]\n",
    "N = 100\n",
    "n1s = np.arange(0, 100, 1)\n",
    "ps = np.linspace(0.1, 0.9, 9)\n",
    "for p in ps:\n",
    "    q = 1 - p\n",
    "    Wn1s = [fact(N)/(fact(n)*fact(N-n))*p**n*q**(N-n) for n in n1s]\n",
    "    #InWn1s = [np.math.log(W) for W in Wn1s]\n",
    "    plt.plot(n1s, Wn1s)\n",
    "    plt.scatter(n1s, Wn1s, label=f'p = {np.round(p, 2)} / valor_medio = {np.round(N*p, 2)} / dispersione = {np.round(N*p*q, 2)}')\n",
    "    plt.xlabel('Total trials')\n",
    "    plt.legend(loc='upper center')"
   ]
  },
  {
   "cell_type": "code",
   "execution_count": null,
   "metadata": {},
   "outputs": [],
   "source": [
    "\"\"\"\n",
    "la distribuzione binomiale si approssima con una Gaussiana\n",
    "\"\"\"\n",
    "N = 360\n",
    "n1s = np.linspace(0, N, N)\n",
    "#W_a = [np.sqrt(2/(np.pi * N)) * np.exp(-2*(n - N/2)**2/N) for n in n1s]\n",
    "X = np.reshape([np.random.binomial(N, 0.5, N)], N)\n",
    "plt.plot(n1s, X, label='X')\n",
    "plt.legend()"
   ]
  },
  {
   "cell_type": "code",
   "execution_count": null,
   "metadata": {},
   "outputs": [],
   "source": []
  }
 ],
 "metadata": {
  "interpreter": {
   "hash": "9c97171bcbfabb853c7f677c58009c6eb5fb7956ea9e68d9c9c57fb3ed55f580"
  },
  "kernelspec": {
   "display_name": "Python 3.8.10 ('.venvTF')",
   "language": "python",
   "name": "python3"
  },
  "language_info": {
   "codemirror_mode": {
    "name": "ipython",
    "version": 3
   },
   "file_extension": ".py",
   "mimetype": "text/x-python",
   "name": "python",
   "nbconvert_exporter": "python",
   "pygments_lexer": "ipython3",
   "version": "3.8.10"
  },
  "orig_nbformat": 4
 },
 "nbformat": 4,
 "nbformat_minor": 2
}
